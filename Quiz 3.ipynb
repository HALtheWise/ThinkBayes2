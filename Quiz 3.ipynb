{
 "cells": [
  {
   "cell_type": "code",
   "execution_count": 1,
   "metadata": {},
   "outputs": [],
   "source": [
    "# Configure Jupyter so figures appear in the notebook\n",
    "%matplotlib inline\n",
    "\n",
    "# Configure Jupyter to display the assigned value after an assignment\n",
    "%config InteractiveShell.ast_node_interactivity='last_expr_or_assign'\n",
    "\n",
    "# import classes from thinkbayes2\n",
    "from thinkbayes2 import Pmf, Cdf, Suite, Joint, MakeJoint, MakeNormalPmf\n",
    "\n",
    "import thinkbayes2\n",
    "import thinkplot\n",
    "\n",
    "import numpy as np"
   ]
  },
  {
   "cell_type": "code",
   "execution_count": 2,
   "metadata": {},
   "outputs": [],
   "source": [
    "from thinkbayes2 import MakePoissonPmf"
   ]
  },
  {
   "cell_type": "code",
   "execution_count": 3,
   "metadata": {},
   "outputs": [
    {
     "data": {
      "text/plain": [
       "0.22248374912554214"
      ]
     },
     "execution_count": 3,
     "metadata": {},
     "output_type": "execute_result"
    },
    {
     "data": {
      "image/png": "[encoded data removed]",
      "text/plain": [
       "<Figure size 432x288 with 1 Axes>"
      ]
     },
     "metadata": {},
     "output_type": "display_data"
    }
   ],
   "source": [
    "goals=MakePoissonPmf(2.8, 20)\n",
    "thinkplot.Hist(goals)\n",
    "goals[3]"
   ]
  },
  {
   "cell_type": "code",
   "execution_count": 4,
   "metadata": {},
   "outputs": [],
   "source": [
    "from thinkbayes2 import MakeBinomialPmf, MakeMixture"
   ]
  },
  {
   "cell_type": "code",
   "execution_count": 5,
   "metadata": {},
   "outputs": [
    {
     "data": {
      "text/plain": [
       "0.23054197320000017"
      ]
     },
     "execution_count": 5,
     "metadata": {},
     "output_type": "execute_result"
    },
    {
     "data": {
      "image/png": "[encoded data removed]",
      "text/plain": [
       "<Figure size 432x288 with 1 Axes>"
      ]
     },
     "metadata": {},
     "output_type": "display_data"
    }
   ],
   "source": [
    "metapmf = Pmf()\n",
    "\n",
    "metapmf[MakeBinomialPmf(10, 0.3)] = 3\n",
    "metapmf[MakeBinomialPmf(10, 0.4)] = 7\n",
    "\n",
    "metapmf.Normalize()\n",
    "\n",
    "metapmf\n",
    "\n",
    "mix = MakeMixture(metapmf)\n",
    "\n",
    "thinkplot.Hist(mix)\n",
    "mix[3]"
   ]
  },
  {
   "cell_type": "code",
   "execution_count": 6,
   "metadata": {},
   "outputs": [
    {
     "name": "stdout",
     "output_type": "stream",
     "text": [
      "Help on function MakeBinomialPmf in module thinkbayes2.thinkbayes2:\n",
      "\n",
      "MakeBinomialPmf(n, p)\n",
      "    Evaluates the binomial PMF.\n",
      "    \n",
      "    n: number of trials\n",
      "    p: probability of success on each trial\n",
      "    \n",
      "    returns: Pmf of number of successes\n",
      "\n"
     ]
    }
   ],
   "source": [
    "help(MakeBinomialPmf)"
   ]
  },
  {
   "cell_type": "code",
   "execution_count": 7,
   "metadata": {},
   "outputs": [],
   "source": [
    "from thinkbayes2 import MakeJoint"
   ]
  },
  {
   "cell_type": "code",
   "execution_count": 8,
   "metadata": {},
   "outputs": [
    {
     "data": {
      "text/plain": [
       "Pmf({1: 0.3333333333333333, 2: 0.6666666666666666})"
      ]
     },
     "execution_count": 8,
     "metadata": {},
     "output_type": "execute_result"
    }
   ],
   "source": [
    "heights = Pmf({1:.5,2:1})"
   ]
  },
  {
   "cell_type": "code",
   "execution_count": 9,
   "metadata": {},
   "outputs": [
    {
     "data": {
      "text/plain": [
       "Joint({(1, 1): 0.1111111111111111, (1, 2): 0.2222222222222222, (2, 1): 0.2222222222222222, (2, 2): 0.4444444444444444})"
      ]
     },
     "execution_count": 9,
     "metadata": {},
     "output_type": "execute_result"
    }
   ],
   "source": [
    "j=MakeJoint(heights, heights)"
   ]
  },
  {
   "cell_type": "code",
   "execution_count": 10,
   "metadata": {},
   "outputs": [
    {
     "data": {
      "text/plain": [
       "Suite({(1, 1): 0.1111111111111111, (1, 2): 0.2222222222222222, (2, 1): 0.2222222222222222, (2, 2): 0.4444444444444444})"
      ]
     },
     "execution_count": 10,
     "metadata": {},
     "output_type": "execute_result"
    }
   ],
   "source": [
    "Suite(j)"
   ]
  },
  {
   "cell_type": "code",
   "execution_count": 11,
   "metadata": {},
   "outputs": [
    {
     "data": {
      "text/plain": [
       "dict_items([((1, 1), 0.1111111111111111), ((1, 2), 0.2222222222222222), ((2, 1), 0.2222222222222222), ((2, 2), 0.4444444444444444)])"
      ]
     },
     "execution_count": 11,
     "metadata": {},
     "output_type": "execute_result"
    }
   ],
   "source": [
    "j.Items()"
   ]
  },
  {
   "cell_type": "code",
   "execution_count": 12,
   "metadata": {},
   "outputs": [
    {
     "name": "stdout",
     "output_type": "stream",
     "text": [
      "Help on method Incr in module thinkbayes2.thinkbayes2:\n",
      "\n",
      "Incr(x, term=1) method of thinkbayes2.thinkbayes2.Joint instance\n",
      "    Increments the freq/prob associated with the value x.\n",
      "    \n",
      "    Args:\n",
      "        x: number value\n",
      "        term: how much to increment by\n",
      "\n"
     ]
    }
   ],
   "source": [
    "help(j.Incr)"
   ]
  },
  {
   "cell_type": "code",
   "execution_count": null,
   "metadata": {},
   "outputs": [],
   "source": []
  }
 ],
 "metadata": {
  "kernelspec": {
   "display_name": "Python 3",
   "language": "python",
   "name": "python3"
  },
  "language_info": {
   "codemirror_mode": {
    "name": "ipython",
    "version": 3
   },
   "file_extension": ".py",
   "mimetype": "text/x-python",
   "name": "python",
   "nbconvert_exporter": "python",
   "pygments_lexer": "ipython3",
   "version": "3.6.5"
  }
 },
 "nbformat": 4,
 "nbformat_minor": 2
}
