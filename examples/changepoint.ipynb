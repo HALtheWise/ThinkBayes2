{
 "cells": [
  {
   "cell_type": "markdown",
   "metadata": {},
   "source": [
    "# Think Bayes\n",
    "\n",
    "Copyright 2018 Allen B. Downey\n",
    "\n",
    "MIT License: https://opensource.org/licenses/MIT"
   ]
  },
  {
   "cell_type": "code",
   "execution_count": 1,
   "metadata": {},
   "outputs": [
    {
     "name": "stderr",
     "output_type": "stream",
     "text": [
      "/home/eric/miniconda3/envs/ThinkBayes2/lib/python3.6/site-packages/h5py/__init__.py:36: FutureWarning: Conversion of the second argument of issubdtype from `float` to `np.floating` is deprecated. In future, it will be treated as `np.float64 == np.dtype(float).type`.\n",
      "  from ._conv import register_converters as _register_converters\n"
     ]
    }
   ],
   "source": [
    "# Configure Jupyter so figures appear in the notebook\n",
    "%matplotlib inline\n",
    "\n",
    "# Configure Jupyter to display the assigned value after an assignment\n",
    "%config InteractiveShell.ast_node_interactivity='last_expr_or_assign'\n",
    "\n",
    "import numpy as np\n",
    "import pandas as pd\n",
    "\n",
    "from scipy.stats import poisson\n",
    "\n",
    "# import classes from thinkbayes2\n",
    "from thinkbayes2 import Pmf, Cdf, Suite, Joint\n",
    "\n",
    "import thinkbayes2\n",
    "import thinkplot\n",
    "\n",
    "import pymc3 as pm\n",
    "import theano.tensor as T"
   ]
  },
  {
   "cell_type": "markdown",
   "metadata": {},
   "source": [
    "### Fake data"
   ]
  },
  {
   "cell_type": "code",
   "execution_count": 2,
   "metadata": {},
   "outputs": [
    {
     "data": {
      "text/plain": [
       "2"
      ]
     },
     "execution_count": 2,
     "metadata": {},
     "output_type": "execute_result"
    }
   ],
   "source": [
    "n = 60\n",
    "t1 = 30\n",
    "t2 = n-t1\n",
    "lam1 = 4\n",
    "lam2 = 2"
   ]
  },
  {
   "cell_type": "code",
   "execution_count": 3,
   "metadata": {},
   "outputs": [
    {
     "data": {
      "text/plain": [
       "array([2, 7, 2, 2, 2, 4, 4, 7, 8, 3, 3, 4, 6, 5, 2, 2, 5, 5, 4, 5, 5, 3,\n",
       "       9, 2, 5, 3, 6, 6, 5, 4])"
      ]
     },
     "execution_count": 3,
     "metadata": {},
     "output_type": "execute_result"
    }
   ],
   "source": [
    "before = poisson(lam1).rvs(t1)"
   ]
  },
  {
   "cell_type": "code",
   "execution_count": 4,
   "metadata": {},
   "outputs": [
    {
     "data": {
      "text/plain": [
       "array([2, 3, 1, 2, 1, 3, 3, 1, 4, 0, 1, 1, 1, 3, 3, 3, 2, 5, 3, 0, 2, 1,\n",
       "       1, 4, 4, 4, 0, 0, 2, 0])"
      ]
     },
     "execution_count": 4,
     "metadata": {},
     "output_type": "execute_result"
    }
   ],
   "source": [
    "after = poisson(lam2).rvs(t2)"
   ]
  },
  {
   "cell_type": "code",
   "execution_count": 5,
   "metadata": {},
   "outputs": [
    {
     "data": {
      "text/plain": [
       "array([2, 7, 2, 2, 2, 4, 4, 7, 8, 3, 3, 4, 6, 5, 2, 2, 5, 5, 4, 5, 5, 3,\n",
       "       9, 2, 5, 3, 6, 6, 5, 4, 2, 3, 1, 2, 1, 3, 3, 1, 4, 0, 1, 1, 1, 3,\n",
       "       3, 3, 2, 5, 3, 0, 2, 1, 1, 4, 4, 4, 0, 0, 2, 0])"
      ]
     },
     "execution_count": 5,
     "metadata": {},
     "output_type": "execute_result"
    }
   ],
   "source": [
    "data = np.concatenate([before, after])"
   ]
  },
  {
   "cell_type": "markdown",
   "metadata": {},
   "source": [
    "### Grid algorithm"
   ]
  },
  {
   "cell_type": "code",
   "execution_count": 29,
   "metadata": {},
   "outputs": [],
   "source": [
    "from thinkbayes2 import EvalPoissonPmf\n",
    "\n",
    "class Change(Suite, Joint):\n",
    "    \n",
    "    def Likelihood(self, data, hypo):\n",
    "        \"\"\"\n",
    "        \n",
    "        data: array of counts\n",
    "        hypo: t, lam1, lam2\n",
    "        \"\"\"\n",
    "        t, lam1, lam2 = hypo\n",
    "        before_counts = data[:t]\n",
    "        before_likelihood = np.product([EvalPoissonPmf(c, lam1) for c in before_counts])\n",
    "        \n",
    "        after_counts = data[t:]\n",
    "        after_likelihood = np.product([EvalPoissonPmf(c, lam2) for c in after_counts])\n",
    "        return before_likelihood * after_likelihood"
   ]
  },
  {
   "cell_type": "code",
   "execution_count": 22,
   "metadata": {},
   "outputs": [],
   "source": [
    "import itertools"
   ]
  },
  {
   "cell_type": "code",
   "execution_count": 32,
   "metadata": {},
   "outputs": [
    {
     "name": "stdout",
     "output_type": "stream",
     "text": [
      "6000\n"
     ]
    },
    {
     "data": {
      "text/plain": [
       "3.80894134630938e-53"
      ]
     },
     "execution_count": 32,
     "metadata": {},
     "output_type": "execute_result"
    }
   ],
   "source": [
    "rate_prior = thinkbayes2.MakeExponentialPmf(lam=1/np.mean(data), n=10, high=2*np.mean(data))\n",
    "t_prior = Pmf(range(len(data)))\n",
    "\n",
    "prior = Change()\n",
    "for vals in itertools.product(t_prior.Items(), rate_prior.Items(), rate_prior.Items()):\n",
    "    prior.Incr(tuple([val for val, p in vals]), np.product([p for val, p in vals]))\n",
    "    \n",
    "print(len(prior))\n",
    "\n",
    "posterior = prior.Copy();\n",
    "posterior.Update(data)"
   ]
  },
  {
   "cell_type": "code",
   "execution_count": 33,
   "metadata": {},
   "outputs": [
    {
     "data": {
      "image/png": "[encoded data removed]",
      "text/plain": [
       "<Figure size 432x288 with 1 Axes>"
      ]
     },
     "metadata": {},
     "output_type": "display_data"
    },
    {
     "data": {
      "image/png": "[encoded data removed]",
      "text/plain": [
       "<Figure size 576x432 with 1 Axes>"
      ]
     },
     "metadata": {},
     "output_type": "display_data"
    },
    {
     "data": {
      "image/png": "[encoded data removed]",
      "text/plain": [
       "<Figure size 576x432 with 1 Axes>"
      ]
     },
     "metadata": {},
     "output_type": "display_data"
    },
    {
     "data": {
      "text/plain": [
       "<Figure size 576x432 with 0 Axes>"
      ]
     },
     "metadata": {},
     "output_type": "display_data"
    }
   ],
   "source": [
    "thinkplot.Pmf(t_prior, label='prior', color='grey')\n",
    "thinkplot.Pmf(posterior.Marginal(0), label='posterior')\n",
    "thinkplot.Config(title='t')\n",
    "thinkplot.Show();\n",
    "\n",
    "thinkplot.Pdf(rate_prior, label='prior', color='grey')\n",
    "thinkplot.Pdf(posterior.Marginal(1), label='posterior')\n",
    "thinkplot.Config(title='lam1')\n",
    "thinkplot.Show();\n",
    "\n",
    "thinkplot.Pdf(rate_prior, label='prior', color='grey')\n",
    "thinkplot.Pdf(posterior.Marginal(2), label='posterior')\n",
    "thinkplot.Config(title='lam2')\n",
    "thinkplot.Show();"
   ]
  },
  {
   "cell_type": "markdown",
   "metadata": {},
   "source": [
    "### MCMC\n",
    "\n",
    "To implement this model in PyMC, see Chapter 1 of [Bayesian Methods for Hackers](http://nbviewer.jupyter.org/github/CamDavidsonPilon/Probabilistic-Programming-and-Bayesian-Methods-for-Hackers/blob/master/Chapter1_Introduction/Ch1_Introduction_PyMC2.ipynb)\n",
    "and this example from [Computational Statistics in Python](http://people.duke.edu/~ccc14/sta-663-2016/16C_PyMC3.html#Changepoint-detection)"
   ]
  },
  {
   "cell_type": "code",
   "execution_count": 43,
   "metadata": {},
   "outputs": [],
   "source": [
    "%psource T.choose"
   ]
  },
  {
   "cell_type": "code",
   "execution_count": 42,
   "metadata": {},
   "outputs": [],
   "source": [
    "%psource pm.Exponential"
   ]
  },
  {
   "cell_type": "code",
   "execution_count": 47,
   "metadata": {},
   "outputs": [],
   "source": [
    "t = range(len(data))\n",
    "with pm.Model() as model:\n",
    "    cp = pm.DiscreteUniform('cp', lower=0, upper=len(data))\n",
    "    lam1 = pm.Exponential('lam1', lam=1/np.mean(data))\n",
    "    lam2 = pm.Exponential('lam2', lam=1/np.mean(data))\n",
    "    \n",
    "    lams = T.choose(t < cp, [[lam1], [lam2]], mode='wrap')\n",
    "    counts = pm.Poisson('counts', mu=lams, observed=data)"
   ]
  },
  {
   "cell_type": "code",
   "execution_count": 56,
   "metadata": {},
   "outputs": [
    {
     "data": {
      "text/plain": [
       "array([[ 4,  5,  2,  4,  3,  5,  2,  1,  2,  5,  4,  4,  6,  3,  7,  9,\n",
       "         6,  8, 11,  5,  9,  9,  6,  8,  9,  6, 14,  8,  7, 19,  6,  9,\n",
       "        10, 13,  6, 11,  9, 12,  7,  5,  4,  7,  8,  7, 11, 10,  8, 12,\n",
       "        14,  9, 10,  8,  9,  7,  6, 12,  8,  7,  9,  5],\n",
       "       [ 4,  4,  8,  5,  1,  5,  3,  8,  5,  9,  9,  5,  8,  6,  5, 11,\n",
       "         3, 12,  8,  3,  6,  5,  5,  5,  7, 11,  8,  6, 10,  6, 10, 11,\n",
       "         9,  7, 10,  7, 10,  3,  4,  5,  5,  4, 11,  5,  8, 13,  3,  9,\n",
       "         6,  6,  9,  5,  6,  6,  7,  5,  9, 12,  6,  8],\n",
       "       [ 4,  0,  1,  1,  1,  1,  1,  1,  0,  2,  3,  1,  0,  1,  2,  1,\n",
       "         2,  2,  0,  0,  1,  1,  3,  2,  1,  1,  2,  0,  3,  2,  1,  0,\n",
       "         2,  1,  0,  0,  0,  0,  1,  0,  0,  0,  1,  0,  0,  0,  1,  1,\n",
       "         2,  1,  1,  1,  2,  3,  0,  1,  1,  1,  1,  1],\n",
       "       [ 2,  4,  4,  4,  1,  3,  4,  5,  3,  5,  7,  4,  3,  3,  7,  6,\n",
       "         2,  8,  5,  6,  3,  2,  3,  2,  1,  2,  2,  1,  1,  4,  1,  3,\n",
       "         3,  2,  4,  4,  1,  4,  3,  0,  2,  3,  1,  7,  6,  3,  4,  4,\n",
       "         3,  2,  3,  6,  3,  6,  6,  3,  5,  4,  4,  3],\n",
       "       [ 1,  1,  0,  0,  1,  2,  0,  0,  0,  1,  0,  2,  1,  0,  1,  1,\n",
       "         1,  1,  0,  0,  1,  2,  0,  1,  0,  0,  1,  1,  1,  0,  0,  0,\n",
       "         1,  2,  0,  0,  0,  1,  3,  0,  1,  1,  3,  1,  1,  0,  0,  4,\n",
       "         3,  5,  4,  0,  4,  3,  2,  2,  4,  4,  3,  1],\n",
       "       [ 9,  9, 15, 21, 19, 14, 15, 19, 10, 16, 15, 18, 18, 14, 13, 11,\n",
       "        10, 17,  9, 14, 20, 17, 23, 11, 13, 23, 14, 12, 23, 13, 14,  0,\n",
       "         1,  3,  1,  2,  3,  0,  2,  2,  0,  1,  3,  0,  1,  2,  3,  2,\n",
       "         2,  2,  1,  1,  0,  0,  1,  0,  0,  3,  0,  5],\n",
       "       [11,  6,  3,  3,  1,  2,  3,  1,  4,  0,  2,  5,  1,  4,  1,  3,\n",
       "         2,  4,  3,  3,  4,  3,  2,  2,  3,  4,  0,  6,  3,  2,  1,  7,\n",
       "         0,  1,  3,  2,  7,  1,  1,  2,  1,  2,  1,  0,  0,  2,  1,  0,\n",
       "         2,  1,  0,  2,  0,  4,  4,  3,  3,  3,  1,  4],\n",
       "       [ 9, 12,  7,  4,  3, 10,  7,  2,  5,  9,  7, 10,  8,  6,  4,  3,\n",
       "         8,  8,  6, 10,  1,  3,  5,  1,  1,  1,  3,  4,  2,  1,  2,  4,\n",
       "         3,  1,  2,  5,  4,  3,  3,  3,  0,  1,  2,  2,  2,  0,  1,  3,\n",
       "         2,  2,  4,  2,  2,  3,  4,  4,  2,  4,  3,  4],\n",
       "       [ 0,  0,  0,  0,  0,  0,  0,  0,  0,  0,  0,  0,  0,  0,  1,  0,\n",
       "         0,  0,  2,  0,  0,  1,  0,  2,  3,  5,  2,  3,  6,  2,  1,  6,\n",
       "         2,  3,  4,  1,  2,  1,  7,  3,  6,  4,  4,  1,  6,  6,  2,  7,\n",
       "         4,  1,  4,  2,  1,  1,  3,  4,  4,  1,  2,  3],\n",
       "       [ 3,  3,  1,  9,  5,  3,  4,  3,  4,  7,  5,  3,  1,  3,  4,  3,\n",
       "         3,  5,  3,  2,  1,  2,  5,  4,  5,  3,  7, 10,  4,  4,  3,  3,\n",
       "         3,  5,  8,  2,  1,  4,  0,  0,  0,  0,  0,  0,  0,  0,  0,  0,\n",
       "         0,  0,  0,  0,  0,  0,  0,  0,  0,  0,  0,  0]])"
      ]
     },
     "execution_count": 56,
     "metadata": {},
     "output_type": "execute_result"
    }
   ],
   "source": [
    "## Check prior\n",
    "with model:\n",
    "    trace_prior = pm.sample_prior_predictive(10)\n",
    "\n",
    "trace_prior['counts']"
   ]
  },
  {
   "cell_type": "markdown",
   "metadata": {},
   "source": [
    "### Real data\n",
    "\n",
    "Some real data, based on [this analysis from the Baltimore Sun](http://www.baltimoresun.com/news/maryland/crime/bs-md-ci-violence-stats-20181018-story.html)"
   ]
  },
  {
   "cell_type": "code",
   "execution_count": null,
   "metadata": {},
   "outputs": [],
   "source": [
    "# !wget https://raw.githubusercontent.com/baltimore-sun-data/2018-shootings-analysis/master/BPD_Part_1_Victim_Based_Crime_Data.csv"
   ]
  },
  {
   "cell_type": "code",
   "execution_count": null,
   "metadata": {},
   "outputs": [],
   "source": [
    "df = pd.read_csv('BPD_Part_1_Victim_Based_Crime_Data.csv', parse_dates=[0])\n",
    "df.head()"
   ]
  },
  {
   "cell_type": "code",
   "execution_count": null,
   "metadata": {},
   "outputs": [],
   "source": [
    "df.shape"
   ]
  },
  {
   "cell_type": "code",
   "execution_count": null,
   "metadata": {},
   "outputs": [],
   "source": [
    "shootings = df[df.Description.isin(['HOMICIDE', 'SHOOTING']) & (df.Weapon == 'FIREARM')]\n",
    "shootings.shape"
   ]
  },
  {
   "cell_type": "code",
   "execution_count": null,
   "metadata": {},
   "outputs": [],
   "source": [
    "grouped = shootings.groupby('CrimeDate')"
   ]
  },
  {
   "cell_type": "code",
   "execution_count": null,
   "metadata": {},
   "outputs": [],
   "source": [
    "counts = grouped['Total Incidents'].sum()\n",
    "counts.head()"
   ]
  },
  {
   "cell_type": "code",
   "execution_count": null,
   "metadata": {},
   "outputs": [],
   "source": [
    "index = pd.date_range(counts.index[0], counts.index[-1])"
   ]
  },
  {
   "cell_type": "code",
   "execution_count": null,
   "metadata": {},
   "outputs": [],
   "source": [
    "counts = counts.reindex(index, fill_value=0)\n",
    "counts.head()"
   ]
  },
  {
   "cell_type": "code",
   "execution_count": null,
   "metadata": {},
   "outputs": [],
   "source": [
    "counts.plot()\n",
    "thinkplot.decorate(xlabel='Date',\n",
    "                   ylabel='Number of shootings')"
   ]
  }
 ],
 "metadata": {
  "kernelspec": {
   "display_name": "Python 3",
   "language": "python",
   "name": "python3"
  },
  "language_info": {
   "codemirror_mode": {
    "name": "ipython",
    "version": 3
   },
   "file_extension": ".py",
   "mimetype": "text/x-python",
   "name": "python",
   "nbconvert_exporter": "python",
   "pygments_lexer": "ipython3",
   "version": "3.6.5"
  }
 },
 "nbformat": 4,
 "nbformat_minor": 1
}
