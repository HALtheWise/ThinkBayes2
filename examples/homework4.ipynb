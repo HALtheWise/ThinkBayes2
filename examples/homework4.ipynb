{
 "cells": [
  {
   "cell_type": "markdown",
   "metadata": {},
   "source": [
    "# Homework 4: Eric Miller\n",
    "\n",
    "1) In your ThinkBayes2 repository, create a new notebook in the examples folder called homework4.ipynb.  You might want to start with template.ipynb.\n",
    "\n",
    " \n",
    "\n",
    "2) Write solutions to the following problems\n",
    "\n",
    "* Lecture 10: One more height problem\n",
    "\n",
    "* Lecture 10: Lincoln index problem\n",
    "\n",
    "* Lecture 11: The skeet problem\n",
    "\n",
    "* Lecture 12: The social desirability problem\n",
    "\n",
    " \n",
    "\n",
    "3) In addition, write a solution to one other problem that has appeared in the lecture notes.\n",
    "\n",
    " \n",
    "\n",
    "4) Write a short description of 1-3 project ideas, with links to relevant resources.  Pitching an idea doesn't mean you are committed to work on it.\n",
    "\n",
    " \n",
    "\n",
    "5) Add, commit, and push the new file.  Then view the notebook on GitHub and paste its URL below."
   ]
  },
  {
   "cell_type": "code",
   "execution_count": 1,
   "metadata": {},
   "outputs": [],
   "source": [
    "from thinkbayes2 import Suite, Pmf\n",
    "import thinkplot\n",
    "\n",
    "import numpy as np"
   ]
  },
  {
   "cell_type": "markdown",
   "metadata": {},
   "source": [
    "## One more height problem"
   ]
  },
  {
   "cell_type": "markdown",
   "metadata": {},
   "source": [
    "## Lincoln index"
   ]
  },
  {
   "cell_type": "markdown",
   "metadata": {},
   "source": [
    "## Skeets"
   ]
  },
  {
   "cell_type": "markdown",
   "metadata": {},
   "source": [
    "## Social desirability"
   ]
  },
  {
   "cell_type": "code",
   "execution_count": null,
   "metadata": {},
   "outputs": [],
   "source": []
  }
 ],
 "metadata": {
  "kernelspec": {
   "display_name": "Python 3",
   "language": "python",
   "name": "python3"
  },
  "language_info": {
   "codemirror_mode": {
    "name": "ipython",
    "version": 3
   },
   "file_extension": ".py",
   "mimetype": "text/x-python",
   "name": "python",
   "nbconvert_exporter": "python",
   "pygments_lexer": "ipython3",
   "version": "3.6.5"
  }
 },
 "nbformat": 4,
 "nbformat_minor": 2
}
