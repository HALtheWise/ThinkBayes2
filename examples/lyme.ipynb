{
 "cells": [
  {
   "cell_type": "code",
   "execution_count": 1,
   "metadata": {},
   "outputs": [],
   "source": [
    "# Configure Jupyter so figures appear in the notebook\n",
    "%matplotlib inline\n",
    "\n",
    "# Configure Jupyter to display the assigned value after an assignment\n",
    "%config InteractiveShell.ast_node_interactivity='last_expr_or_assign'\n",
    "\n",
    "import numpy as np\n",
    "import pandas as pd\n",
    "\n",
    "from IPython.display import display"
   ]
  },
  {
   "cell_type": "markdown",
   "metadata": {},
   "source": [
    "The prevalence of Lyme disease in the U.S. is about 1/1000 (although it is higher in the Northeast and Midwest than in other regions, and higher among people who participate in outdoor activities).\n",
    "\n",
    "According to \"Sensitive and Specific Serodiagnosis of Lyme Disease by Enzyme-Linked Immunosorbent Assay with a Peptide Based on an Immunodominant Conserved Region of Borrelia burgdorferi VlsE\":\n",
    "- The sensitivity of the ELISA test for Lyme disease is more than 75%, which means that if you have Lyme disease, there is a 75% chance (or better) of getting a positive result.\n",
    "- The specificity of the test is 99%, which means that if you don't have Lyme disease, there is a 99% chance of getting a negative result.\n",
    "\n",
    "What is the probability that you have Lyme disease, given that you tested positive?"
   ]
  },
  {
   "cell_type": "code",
   "execution_count": 12,
   "metadata": {},
   "outputs": [],
   "source": [
    "prevalence = 0.001\n",
    "sensitivity = 0.75\n",
    "specificity = 0.99;"
   ]
  },
  {
   "cell_type": "code",
   "execution_count": 13,
   "metadata": {},
   "outputs": [],
   "source": [
    "class BayesTable(pd.DataFrame):\n",
    "    def __init__(self, hypo, prior=1):\n",
    "        columns = ['hypo', 'prior', 'likelihood', 'unnorm', 'posterior']\n",
    "        super().__init__(columns=columns)\n",
    "        self.hypo = hypo\n",
    "        self.prior = prior\n",
    "    \n",
    "    def mult(self):\n",
    "        self.unnorm = self.prior * self.likelihood\n",
    "        \n",
    "    def norm(self):\n",
    "        nc = np.sum(self.unnorm)\n",
    "        self.posterior = self.unnorm / nc\n",
    "        return nc\n",
    "    \n",
    "    def update(self):\n",
    "        self.mult()\n",
    "        return self.norm()\n",
    "    \n",
    "    def reset(self):\n",
    "        return BayesTable(self.hypo, self.posterior)"
   ]
  },
  {
   "cell_type": "code",
   "execution_count": 15,
   "metadata": {},
   "outputs": [
    {
     "name": "stdout",
     "output_type": "stream",
     "text": [
      "0.01074000000000001\n"
     ]
    },
    {
     "data": {
      "text/html": [
       "<div>\n",
       "<style scoped>\n",
       "    .dataframe tbody tr th:only-of-type {\n",
       "        vertical-align: middle;\n",
       "    }\n",
       "\n",
       "    .dataframe tbody tr th {\n",
       "        vertical-align: top;\n",
       "    }\n",
       "\n",
       "    .dataframe thead th {\n",
       "        text-align: right;\n",
       "    }\n",
       "</style>\n",
       "<table border=\"1\" class=\"dataframe\">\n",
       "  <thead>\n",
       "    <tr style=\"text-align: right;\">\n",
       "      <th></th>\n",
       "      <th>hypo</th>\n",
       "      <th>prior</th>\n",
       "      <th>likelihood</th>\n",
       "      <th>unnorm</th>\n",
       "      <th>posterior</th>\n",
       "    </tr>\n",
       "  </thead>\n",
       "  <tbody>\n",
       "    <tr>\n",
       "      <th>0</th>\n",
       "      <td>Sick</td>\n",
       "      <td>0.001</td>\n",
       "      <td>0.75</td>\n",
       "      <td>0.00075</td>\n",
       "      <td>0.069832</td>\n",
       "    </tr>\n",
       "    <tr>\n",
       "      <th>1</th>\n",
       "      <td>Healthy</td>\n",
       "      <td>0.999</td>\n",
       "      <td>0.01</td>\n",
       "      <td>0.00999</td>\n",
       "      <td>0.930168</td>\n",
       "    </tr>\n",
       "  </tbody>\n",
       "</table>\n",
       "</div>"
      ],
      "text/plain": [
       "      hypo  prior  likelihood   unnorm  posterior\n",
       "0     Sick  0.001        0.75  0.00075   0.069832\n",
       "1  Healthy  0.999        0.01  0.00999   0.930168"
      ]
     },
     "execution_count": 15,
     "metadata": {},
     "output_type": "execute_result"
    }
   ],
   "source": [
    "table = BayesTable(['Sick', 'Healthy'], prior=(prevalence, 1-prevalence))\n",
    "table.likelihood = [sensitivity, 1-specificity]\n",
    "print(table.update())\n",
    "table"
   ]
  }
 ],
 "metadata": {
  "kernelspec": {
   "display_name": "Python 3",
   "language": "python",
   "name": "python3"
  },
  "language_info": {
   "codemirror_mode": {
    "name": "ipython",
    "version": 3
   },
   "file_extension": ".py",
   "mimetype": "text/x-python",
   "name": "python",
   "nbconvert_exporter": "python",
   "pygments_lexer": "ipython3",
   "version": "3.6.5"
  }
 },
 "nbformat": 4,
 "nbformat_minor": 2
}
