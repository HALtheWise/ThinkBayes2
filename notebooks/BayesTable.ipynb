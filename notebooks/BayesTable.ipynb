{
 "cells": [
  {
   "cell_type": "code",
   "execution_count": 3,
   "metadata": {},
   "outputs": [],
   "source": [
    "from thinkbayes2 import Suite, Pmf"
   ]
  },
  {
   "cell_type": "code",
   "execution_count": 2,
   "metadata": {},
   "outputs": [],
   "source": [
    "s = Suite()"
   ]
  },
  {
   "cell_type": "code",
   "execution_count": 4,
   "metadata": {},
   "outputs": [],
   "source": [
    "pmf = Pmf()"
   ]
  },
  {
   "cell_type": "code",
   "execution_count": 8,
   "metadata": {},
   "outputs": [
    {
     "data": {
      "text/plain": [
       "Pmf({4: 0.4, 6: 0.26666666666666666, 8: 0.2, 12: 0.13333333333333333})"
      ]
     },
     "execution_count": 8,
     "metadata": {},
     "output_type": "execute_result"
    }
   ],
   "source": [
    "sizes =  (4,6,8,12)\n",
    "\n",
    "for i in sizes:\n",
    "    pmf.Set(i, 1/4)\n",
    "    \n",
    "for i in sizes:\n",
    "    pmf.Mult(i, 1.0/i)\n",
    "    \n",
    "pmf.Normalize()\n",
    "pmf"
   ]
  },
  {
   "cell_type": "code",
   "execution_count": 14,
   "metadata": {},
   "outputs": [
    {
     "data": {
      "text/plain": [
       "(4, 12)"
      ]
     },
     "execution_count": 14,
     "metadata": {},
     "output_type": "execute_result"
    }
   ],
   "source": [
    "pmf.CredibleInterval(90)"
   ]
  },
  {
   "cell_type": "code",
   "execution_count": 15,
   "metadata": {},
   "outputs": [],
   "source": [
    "self = Pmf()"
   ]
  },
  {
   "cell_type": "code",
   "execution_count": 24,
   "metadata": {},
   "outputs": [],
   "source": [
    "class FiniteBayes(Pmf):\n",
    "    def __init__(self, hypos, priors):\n",
    "        super().__init__(self)\n",
    "        # Sanitize the inputs\n",
    "        if isinstance(hypos, str):\n",
    "            hypos = hypos.split()\n",
    "\n",
    "        if not hypos:\n",
    "            hypos = list(range(len(priors)))\n",
    "        \n",
    "        for h, p in zip(hypos, priors):\n",
    "            self.Set(h, p)\n",
    "            \n",
    "        self.Normalize()\n",
    "    \n",
    "    def Update(self, likelihoods):\n",
    "        assert len(likelihoods) == len(self)\n",
    "        \n",
    "        for h, l in zip(self, likelihoods):\n",
    "            self.Mult(h, l)\n",
    "            \n",
    "        self.Normalize()\n",
    "        \n",
    "        return self\n"
   ]
  },
  {
   "cell_type": "code",
   "execution_count": 25,
   "metadata": {},
   "outputs": [
    {
     "data": {
      "text/plain": [
       "FiniteBayes({'identical': 0.14814814814814814, 'not': 0.8518518518518517})"
      ]
     },
     "execution_count": 25,
     "metadata": {},
     "output_type": "execute_result"
    }
   ],
   "source": [
    "FiniteBayes('identical not', [8, 92]).Update([1, 0.5])"
   ]
  },
  {
   "cell_type": "code",
   "execution_count": null,
   "metadata": {},
   "outputs": [],
   "source": []
  }
 ],
 "metadata": {
  "kernelspec": {
   "display_name": "Python 3",
   "language": "python",
   "name": "python3"
  },
  "language_info": {
   "codemirror_mode": {
    "name": "ipython",
    "version": 3
   },
   "file_extension": ".py",
   "mimetype": "text/x-python",
   "name": "python",
   "nbconvert_exporter": "python",
   "pygments_lexer": "ipython3",
   "version": "3.6.5"
  }
 },
 "nbformat": 4,
 "nbformat_minor": 2
}
